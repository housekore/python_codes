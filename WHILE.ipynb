{
 "cells": [
  {
   "cell_type": "code",
   "execution_count": null,
   "metadata": {},
   "outputs": [],
   "source": [
    "from random import randit\n",
    "\n",
    "numero_informado = -1\n",
    "numero_secreto = randint(0, 9)\n",
    "\n",
    "while numero_informado != numero_secreto:\n",
    "    numero_informado = int(input('Informe o Número: '))\n",
    "\n",
    "print('Número secreto {} foi encontrado')"
   ]
  }
 ],
 "metadata": {
  "kernelspec": {
   "display_name": "Python 3",
   "language": "python",
   "name": "python3"
  },
  "language_info": {
   "codemirror_mode": {
    "name": "ipython",
    "version": 3
   },
   "file_extension": ".py",
   "mimetype": "text/x-python",
   "name": "python",
   "nbconvert_exporter": "python",
   "pygments_lexer": "ipython3",
   "version": "3.8.5"
  }
 },
 "nbformat": 4,
 "nbformat_minor": 4
}
