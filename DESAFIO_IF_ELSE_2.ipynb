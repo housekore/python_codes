{
 "cells": [
  {
   "cell_type": "code",
   "execution_count": 3,
   "metadata": {},
   "outputs": [
    {
     "name": "stdout",
     "output_type": "stream",
     "text": [
      "0: Menor de idade\n",
      "19: Adulto\n",
      "17: Menor de idade\n",
      "35: Adulto\n",
      "87: Melhor idade\n",
      "113: Centenário\n",
      "-2: Idade Inválida\n"
     ]
    }
   ],
   "source": [
    "def faixa_etaria(idade):\n",
    "    if 0 <= idade < 18:\n",
    "        return 'Menor de idade'\n",
    "    elif idade in range(18, 64):\n",
    "        return 'Adulto'\n",
    "    elif idade in range(65, 100):\n",
    "        return 'Melhor idade'\n",
    "    elif idade >= 100:\n",
    "        return 'Centenário'\n",
    "    else:\n",
    "        return 'Idade Inválida'\n",
    "    \n",
    "if __name__ == '__main__':\n",
    "    for idade in (0, 19, 17, 35, 87, 113, -2):\n",
    "        print(f'{idade}: {faixa_etaria(idade)}')"
   ]
  },
  {
   "cell_type": "code",
   "execution_count": null,
   "metadata": {},
   "outputs": [],
   "source": []
  }
 ],
 "metadata": {
  "kernelspec": {
   "display_name": "Python 3",
   "language": "python",
   "name": "python3"
  },
  "language_info": {
   "codemirror_mode": {
    "name": "ipython",
    "version": 3
   },
   "file_extension": ".py",
   "mimetype": "text/x-python",
   "name": "python",
   "nbconvert_exporter": "python",
   "pygments_lexer": "ipython3",
   "version": "3.8.5"
  }
 },
 "nbformat": 4,
 "nbformat_minor": 4
}
