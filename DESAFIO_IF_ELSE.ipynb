{
 "cells": [
  {
   "cell_type": "code",
   "execution_count": null,
   "metadata": {},
   "outputs": [],
   "source": [
    "\n",
    "def nota_conceito(valor):\n",
    "    nota = float(valor)\n",
    "    \n",
    "    if nota > 10:\n",
    "        return 'Nota inválida'\n",
    "    elif nota >= 9.1:\n",
    "        return 'A'\n",
    "    elif nota >= 8.1:\n",
    "        return 'A-'\n",
    "    elif nota >= 7.1:\n",
    "        return 'B'\n",
    "    elif nota >= 6.1:\n",
    "        return 'B-'\n",
    "    elif nota >= 5.1:\n",
    "        return 'C'\n",
    "    elif nota >= 4.1:\n",
    "        return 'C-'\n",
    "    elif nota >= 3.1:\n",
    "        return 'D'\n",
    "    elif nota >= 2.1:\n",
    "        return 'D-'\n",
    "    elif nota >= 1.1:\n",
    "        return 'E'\n",
    "    elif nota >= 0:\n",
    "        return 'E-'\n",
    "    else:\n",
    "        return 'Nota inválida - nota negativa'\n",
    "        \n",
    "    "
   ]
  }
 ],
 "metadata": {
  "kernelspec": {
   "display_name": "Python 3",
   "language": "python",
   "name": "python3"
  },
  "language_info": {
   "codemirror_mode": {
    "name": "ipython",
    "version": 3
   },
   "file_extension": ".py",
   "mimetype": "text/x-python",
   "name": "python",
   "nbconvert_exporter": "python",
   "pygments_lexer": "ipython3",
   "version": "3.8.5"
  }
 },
 "nbformat": 4,
 "nbformat_minor": 4
}
